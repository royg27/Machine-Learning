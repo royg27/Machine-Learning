{
  "nbformat": 4,
  "nbformat_minor": 0,
  "metadata": {
    "colab": {
      "name": "transfer_learning_VGG-cifar10.ipynb",
      "provenance": [],
      "collapsed_sections": []
    },
    "kernelspec": {
      "name": "python3",
      "display_name": "Python 3"
    },
    "accelerator": "GPU"
  },
  "cells": [
    {
      "cell_type": "markdown",
      "metadata": {
        "id": "uAwaUVVlrSG1",
        "colab_type": "text"
      },
      "source": [
        "transfer learning - VGG"
      ]
    },
    {
      "cell_type": "code",
      "metadata": {
        "id": "91n9vi4-l2yW",
        "colab_type": "code",
        "outputId": "af3c5e37-9ae1-4f3a-ee70-d1a8a4913f96",
        "colab": {
          "base_uri": "https://localhost:8080/",
          "height": 991
        }
      },
      "source": [
        "import keras\n",
        "from keras.applications.vgg16 import VGG16\n",
        "from keras.datasets import mnist\n",
        "import numpy as np\n",
        "from keras.datasets import cifar10\n",
        "from keras.layers import Flatten,Dense, GlobalAveragePooling2D, BatchNormalization, Dropout\n",
        "from keras.models import Model\n",
        "from keras.utils import np_utils\n",
        "from keras.applications.vgg16 import preprocess_input\n",
        "from PIL import Image\n",
        "\n",
        "BATCH_SIZE = 32\n",
        "EPOCHS = 10\n",
        "LEARNING_RATE = 1e-4\n",
        "\n",
        "(X_train, y_train), (X_test, y_test) = cifar10.load_data()\n",
        "\n",
        "# from categorical to 1-bit-hot\n",
        "y_train = np_utils.to_categorical(y_train)\n",
        "y_test = np_utils.to_categorical(y_test)\n",
        "\n",
        "# get archs and pre-trained weights\n",
        "# include top to remove the classification layer\n",
        "vgg = VGG16(input_shape=(32,32,3), weights='imagenet', include_top=False)\n",
        "# freeze wiehgts\n",
        "for layer in vgg.layers:\n",
        "  layer.trainable = False\n",
        "# add trainable layers \n",
        "x = GlobalAveragePooling2D()(vgg.output)\n",
        "x= BatchNormalization()(x)\n",
        "x = Dense(256, activation='relu')(x)\n",
        "x = Dense(128, activation='relu')(x)\n",
        "x = Dropout(0.6)(x)\n",
        "prediction = Dense(10, activation='softmax')(x)\n",
        "# create a model\n",
        "model = Model(inputs=vgg.input, outputs=prediction)\n",
        "model.summary()\n",
        "model.compile(loss='binary_crossentropy',optimizer=keras.optimizers.Adam(lr=LEARNING_RATE),metrics=['accuracy'])\n"
      ],
      "execution_count": 0,
      "outputs": [
        {
          "output_type": "stream",
          "text": [
            "Model: \"model_18\"\n",
            "_________________________________________________________________\n",
            "Layer (type)                 Output Shape              Param #   \n",
            "=================================================================\n",
            "input_20 (InputLayer)        (None, 32, 32, 3)         0         \n",
            "_________________________________________________________________\n",
            "block1_conv1 (Conv2D)        (None, 32, 32, 64)        1792      \n",
            "_________________________________________________________________\n",
            "block1_conv2 (Conv2D)        (None, 32, 32, 64)        36928     \n",
            "_________________________________________________________________\n",
            "block1_pool (MaxPooling2D)   (None, 16, 16, 64)        0         \n",
            "_________________________________________________________________\n",
            "block2_conv1 (Conv2D)        (None, 16, 16, 128)       73856     \n",
            "_________________________________________________________________\n",
            "block2_conv2 (Conv2D)        (None, 16, 16, 128)       147584    \n",
            "_________________________________________________________________\n",
            "block2_pool (MaxPooling2D)   (None, 8, 8, 128)         0         \n",
            "_________________________________________________________________\n",
            "block3_conv1 (Conv2D)        (None, 8, 8, 256)         295168    \n",
            "_________________________________________________________________\n",
            "block3_conv2 (Conv2D)        (None, 8, 8, 256)         590080    \n",
            "_________________________________________________________________\n",
            "block3_conv3 (Conv2D)        (None, 8, 8, 256)         590080    \n",
            "_________________________________________________________________\n",
            "block3_pool (MaxPooling2D)   (None, 4, 4, 256)         0         \n",
            "_________________________________________________________________\n",
            "block4_conv1 (Conv2D)        (None, 4, 4, 512)         1180160   \n",
            "_________________________________________________________________\n",
            "block4_conv2 (Conv2D)        (None, 4, 4, 512)         2359808   \n",
            "_________________________________________________________________\n",
            "block4_conv3 (Conv2D)        (None, 4, 4, 512)         2359808   \n",
            "_________________________________________________________________\n",
            "block4_pool (MaxPooling2D)   (None, 2, 2, 512)         0         \n",
            "_________________________________________________________________\n",
            "block5_conv1 (Conv2D)        (None, 2, 2, 512)         2359808   \n",
            "_________________________________________________________________\n",
            "block5_conv2 (Conv2D)        (None, 2, 2, 512)         2359808   \n",
            "_________________________________________________________________\n",
            "block5_conv3 (Conv2D)        (None, 2, 2, 512)         2359808   \n",
            "_________________________________________________________________\n",
            "block5_pool (MaxPooling2D)   (None, 1, 1, 512)         0         \n",
            "_________________________________________________________________\n",
            "global_average_pooling2d_14  (None, 512)               0         \n",
            "_________________________________________________________________\n",
            "batch_normalization_14 (Batc (None, 512)               2048      \n",
            "_________________________________________________________________\n",
            "dense_49 (Dense)             (None, 256)               131328    \n",
            "_________________________________________________________________\n",
            "dense_50 (Dense)             (None, 128)               32896     \n",
            "_________________________________________________________________\n",
            "dropout_13 (Dropout)         (None, 128)               0         \n",
            "_________________________________________________________________\n",
            "dense_51 (Dense)             (None, 10)                1290      \n",
            "=================================================================\n",
            "Total params: 14,882,250\n",
            "Trainable params: 166,538\n",
            "Non-trainable params: 14,715,712\n",
            "_________________________________________________________________\n"
          ],
          "name": "stdout"
        }
      ]
    },
    {
      "cell_type": "markdown",
      "metadata": {
        "id": "IHBAjk0CmKVZ",
        "colab_type": "text"
      },
      "source": [
        ""
      ]
    },
    {
      "cell_type": "code",
      "metadata": {
        "id": "GAIS5fKDmKy1",
        "colab_type": "code",
        "outputId": "a3111cf9-5ab1-46ef-cc25-af74a61cd119",
        "colab": {
          "base_uri": "https://localhost:8080/",
          "height": 352
        }
      },
      "source": [
        "# prepare data augmentation - to make more robust\n",
        "# preprocess_input transforms to the needed formation of the used network\n",
        "train_datagen = ImageDataGenerator(rotation_range=20,width_shift_range=0.1,height_shift_range=0.1,shear_range=0.1,zoom_range=0.2,horizontal_flip=True,vertical_flip=True,preprocessing_function=preprocess_input)\n",
        "train_datagen.fit(X_train)\n",
        "train_generator = train_datagen.flow(X_train,y_train, batch_size=BATCH_SIZE)\n",
        "\n",
        "val_datagen = ImageDataGenerator(rotation_range=20,width_shift_range=0.1,height_shift_range=0.1,shear_range=0.1,zoom_range=0.2,horizontal_flip=True,vertical_flip=True,preprocessing_function=preprocess_input)\n",
        "val_datagen.fit(X_test)\n",
        "val_generator = val_datagen.flow(X_test,y_test,batch_size=BATCH_SIZE)\n",
        "\n",
        "train_steps_per_epoch = X_train.shape[0] // BATCH_SIZE\n",
        "val_steps_per_epoch = X_test.shape[0] // BATCH_SIZE\n",
        "\n",
        "history = model.fit_generator(train_generator,steps_per_epoch=train_steps_per_epoch,validation_data=val_generator,validation_steps=val_steps_per_epoch,epochs=EPOCHS,verbose=1)"
      ],
      "execution_count": 0,
      "outputs": [
        {
          "output_type": "stream",
          "text": [
            "Epoch 1/10\n",
            "1562/1562 [==============================] - 53s 34ms/step - loss: 0.2869 - accuracy: 0.9005 - val_loss: 0.2473 - val_accuracy: 0.9092\n",
            "Epoch 2/10\n",
            "1562/1562 [==============================] - 52s 33ms/step - loss: 0.2472 - accuracy: 0.9061 - val_loss: 0.2072 - val_accuracy: 0.9140\n",
            "Epoch 3/10\n",
            "1562/1562 [==============================] - 52s 34ms/step - loss: 0.2345 - accuracy: 0.9100 - val_loss: 0.2620 - val_accuracy: 0.9173\n",
            "Epoch 4/10\n",
            "1562/1562 [==============================] - 52s 33ms/step - loss: 0.2271 - accuracy: 0.9129 - val_loss: 0.2413 - val_accuracy: 0.9191\n",
            "Epoch 5/10\n",
            "1562/1562 [==============================] - 52s 33ms/step - loss: 0.2232 - accuracy: 0.9143 - val_loss: 0.1831 - val_accuracy: 0.9203\n",
            "Epoch 6/10\n",
            "1562/1562 [==============================] - 53s 34ms/step - loss: 0.2200 - accuracy: 0.9147 - val_loss: 0.1484 - val_accuracy: 0.9215\n",
            "Epoch 7/10\n",
            "1562/1562 [==============================] - 53s 34ms/step - loss: 0.2173 - accuracy: 0.9160 - val_loss: 0.1228 - val_accuracy: 0.9217\n",
            "Epoch 8/10\n",
            "1562/1562 [==============================] - 53s 34ms/step - loss: 0.2151 - accuracy: 0.9166 - val_loss: 0.2503 - val_accuracy: 0.9217\n",
            "Epoch 9/10\n",
            "1562/1562 [==============================] - 53s 34ms/step - loss: 0.2139 - accuracy: 0.9170 - val_loss: 0.2111 - val_accuracy: 0.9228\n",
            "Epoch 10/10\n",
            "1562/1562 [==============================] - 52s 33ms/step - loss: 0.2125 - accuracy: 0.9177 - val_loss: 0.1657 - val_accuracy: 0.9225\n"
          ],
          "name": "stdout"
        }
      ]
    }
  ]
}